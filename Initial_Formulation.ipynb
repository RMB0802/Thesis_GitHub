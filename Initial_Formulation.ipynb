{
 "cells": [
  {
   "cell_type": "markdown",
   "id": "1cfc5ad1-1e26-4660-b035-5641b85fd175",
   "metadata": {},
   "source": [
    "This will be an initial formulation for my problem where the code will be rough. I will try to condense this notebook into a .py file for my final formulation. \n"
   ]
  },
  {
   "cell_type": "markdown",
   "id": "9a16c5f0-8bac-415a-9d4b-e28ced5a4054",
   "metadata": {},
   "source": [
    "First steps will be fomulating the model.\n",
    "See how many we can feasibly run on local machine. \n",
    "Create fake document with multiple locations and distances. \n"
   ]
  },
  {
   "cell_type": "code",
   "execution_count": 1,
   "id": "1e77f655-9bed-4386-bea7-f975a3fc0f49",
   "metadata": {},
   "outputs": [
    {
     "name": "stdout",
     "output_type": "stream",
     "text": [
      "Collecting gurobipy\n",
      "  Downloading gurobipy-12.0.0-cp311-cp311-win_amd64.whl.metadata (16 kB)\n",
      "Downloading gurobipy-12.0.0-cp311-cp311-win_amd64.whl (11.2 MB)\n",
      "   ---------------------------------------- 0.0/11.2 MB ? eta -:--:--\n",
      "    --------------------------------------- 0.3/11.2 MB 5.2 MB/s eta 0:00:03\n",
      "   - -------------------------------------- 0.5/11.2 MB 5.1 MB/s eta 0:00:03\n",
      "   -- ------------------------------------- 0.6/11.2 MB 5.0 MB/s eta 0:00:03\n",
      "   -- ------------------------------------- 0.7/11.2 MB 3.8 MB/s eta 0:00:03\n",
      "   ---- ----------------------------------- 1.2/11.2 MB 5.3 MB/s eta 0:00:02\n",
      "   ----- ---------------------------------- 1.5/11.2 MB 5.3 MB/s eta 0:00:02\n",
      "   ------ --------------------------------- 1.8/11.2 MB 5.3 MB/s eta 0:00:02\n",
      "   ------- -------------------------------- 2.0/11.2 MB 5.3 MB/s eta 0:00:02\n",
      "   ------- -------------------------------- 2.0/11.2 MB 5.3 MB/s eta 0:00:02\n",
      "   -------- ------------------------------- 2.5/11.2 MB 5.3 MB/s eta 0:00:02\n",
      "   --------- ------------------------------ 2.7/11.2 MB 5.3 MB/s eta 0:00:02\n",
      "   ---------- ----------------------------- 3.0/11.2 MB 5.3 MB/s eta 0:00:02\n",
      "   ----------- ---------------------------- 3.2/11.2 MB 5.1 MB/s eta 0:00:02\n",
      "   ------------ --------------------------- 3.5/11.2 MB 5.3 MB/s eta 0:00:02\n",
      "   ------------- -------------------------- 3.7/11.2 MB 5.2 MB/s eta 0:00:02\n",
      "   -------------- ------------------------- 4.0/11.2 MB 5.3 MB/s eta 0:00:02\n",
      "   --------------- ------------------------ 4.2/11.2 MB 5.3 MB/s eta 0:00:02\n",
      "   --------------- ------------------------ 4.4/11.2 MB 5.2 MB/s eta 0:00:02\n",
      "   ---------------- ----------------------- 4.7/11.2 MB 5.1 MB/s eta 0:00:02\n",
      "   ----------------- ---------------------- 5.0/11.2 MB 5.3 MB/s eta 0:00:02\n",
      "   ------------------ --------------------- 5.2/11.2 MB 5.2 MB/s eta 0:00:02\n",
      "   ------------------- -------------------- 5.5/11.2 MB 5.2 MB/s eta 0:00:02\n",
      "   -------------------- ------------------- 5.7/11.2 MB 5.2 MB/s eta 0:00:02\n",
      "   --------------------- ------------------ 6.0/11.2 MB 5.2 MB/s eta 0:00:02\n",
      "   ---------------------- ----------------- 6.2/11.2 MB 5.2 MB/s eta 0:00:01\n",
      "   ----------------------- ---------------- 6.5/11.2 MB 5.2 MB/s eta 0:00:01\n",
      "   ------------------------ --------------- 6.7/11.2 MB 5.3 MB/s eta 0:00:01\n",
      "   ------------------------ --------------- 7.0/11.2 MB 5.2 MB/s eta 0:00:01\n",
      "   ------------------------- -------------- 7.2/11.2 MB 5.2 MB/s eta 0:00:01\n",
      "   -------------------------- ------------- 7.5/11.2 MB 5.2 MB/s eta 0:00:01\n",
      "   --------------------------- ------------ 7.7/11.2 MB 5.2 MB/s eta 0:00:01\n",
      "   ---------------------------- ----------- 8.0/11.2 MB 5.3 MB/s eta 0:00:01\n",
      "   ----------------------------- ---------- 8.2/11.2 MB 5.3 MB/s eta 0:00:01\n",
      "   ------------------------------ --------- 8.4/11.2 MB 5.2 MB/s eta 0:00:01\n",
      "   ------------------------------- -------- 8.7/11.2 MB 5.2 MB/s eta 0:00:01\n",
      "   -------------------------------- ------- 9.0/11.2 MB 5.3 MB/s eta 0:00:01\n",
      "   -------------------------------- ------- 9.2/11.2 MB 5.3 MB/s eta 0:00:01\n",
      "   --------------------------------- ------ 9.5/11.2 MB 5.3 MB/s eta 0:00:01\n",
      "   ---------------------------------- ----- 9.7/11.2 MB 5.3 MB/s eta 0:00:01\n",
      "   ----------------------------------- ---- 10.0/11.2 MB 5.3 MB/s eta 0:00:01\n",
      "   ------------------------------------ --- 10.2/11.2 MB 5.2 MB/s eta 0:00:01\n",
      "   ------------------------------------- -- 10.5/11.2 MB 5.2 MB/s eta 0:00:01\n",
      "   -------------------------------------- - 10.7/11.2 MB 5.2 MB/s eta 0:00:01\n",
      "   ---------------------------------------  11.0/11.2 MB 5.4 MB/s eta 0:00:01\n",
      "   ---------------------------------------  11.2/11.2 MB 5.3 MB/s eta 0:00:01\n",
      "   ---------------------------------------  11.2/11.2 MB 5.3 MB/s eta 0:00:01\n",
      "   ---------------------------------------- 11.2/11.2 MB 5.1 MB/s eta 0:00:00\n",
      "Installing collected packages: gurobipy\n",
      "Successfully installed gurobipy-12.0.0\n",
      "Note: you may need to restart the kernel to use updated packages.\n"
     ]
    }
   ],
   "source": [
    "%pip install gurobipy"
   ]
  },
  {
   "cell_type": "code",
   "execution_count": 3,
   "id": "c48bd7d2-e21b-4382-a2c1-65ad7a771639",
   "metadata": {},
   "outputs": [],
   "source": [
    "from itertools import product\n",
    "from math import sqrt\n",
    "\n",
    "import gurobipy as gp\n",
    "from gurobipy import Model,GRB,quicksum"
   ]
  },
  {
   "cell_type": "markdown",
   "id": "dacce96e-8844-4ee7-b639-42f42f76a15b",
   "metadata": {},
   "source": [
    "First I will define sets and parameters these will most likely be put in CSVs for the real problem and I will read them in via pandas. "
   ]
  },
  {
   "cell_type": "code",
   "execution_count": 7,
   "id": "f3a5388f-f9f5-4dbb-9fa9-252d237c7980",
   "metadata": {},
   "outputs": [],
   "source": [
    "# Sets\n",
    "I = [1, 2, 3, 4, 5]  # TLAMM\n",
    "J = [1, 2, 3, 4]  # Unit\n",
    "K = [1, 2]  # Cost factors\n",
    "\n",
    "# Parameters\n",
    "c = {1: 1000, 2: 1500, 3: 1200, 4:400, 5:10000}  # Fixed costs for TLAMMs\n",
    "d = {(i, j): 10 for i in I for j in J}  # Example distances\n",
    "w = {1: 0.5, 2: 0.5}  # Weights for cost factors\n",
    "f_kij = {(k, i, j): d[(i, j)] for k in K for i in I for j in J}  # Example costs\n",
    "P = 500  # Penalty for extra TLAMM\n",
    "L = 2  # Maximum number of TLAMM\n",
    "k_cap = {1: 50, 2: 60, 3: 70, 4:50, 5:150}  #TLAMM capacities\n"
   ]
  },
  {
   "cell_type": "code",
   "execution_count": 9,
   "id": "ecff5f01-f48e-4387-a245-4498b37229ef",
   "metadata": {},
   "outputs": [
    {
     "name": "stdout",
     "output_type": "stream",
     "text": [
      "Gurobi Optimizer version 12.0.0 build v12.0.0rc1 (win64 - Windows 11.0 (22631.2))\n",
      "\n",
      "CPU model: 12th Gen Intel(R) Core(TM) i5-1235U, instruction set [SSE2|AVX|AVX2]\n",
      "Thread count: 10 physical cores, 12 logical processors, using up to 12 threads\n",
      "\n",
      "Optimize a model with 32 rows, 26 columns and 97 nonzeros\n",
      "Model fingerprint: 0xff77de4e\n",
      "Variable types: 21 continuous, 5 integer (5 binary)\n",
      "Coefficient statistics:\n",
      "  Matrix range     [1e+00, 2e+02]\n",
      "  Objective range  [1e+01, 1e+04]\n",
      "  Bounds range     [1e+00, 1e+00]\n",
      "  RHS range        [1e+00, 2e+00]\n",
      "Presolve removed 25 rows and 14 columns\n",
      "Presolve time: 0.00s\n",
      "Presolved: 7 rows, 12 columns, 22 nonzeros\n",
      "Variable types: 6 continuous, 6 integer (6 binary)\n",
      "Found heuristic solution: objective 12040.000000\n",
      "Found heuristic solution: objective 10940.000000\n",
      "Found heuristic solution: objective 3040.0000000\n",
      "\n",
      "Root relaxation: objective 4.400000e+02, 4 iterations, 0.00 seconds (0.00 work units)\n",
      "\n",
      "    Nodes    |    Current Node    |     Objective Bounds      |     Work\n",
      " Expl Unexpl |  Obj  Depth IntInf | Incumbent    BestBd   Gap | It/Node Time\n",
      "\n",
      "*    0     0               0     440.0000000  440.00000  0.00%     -    0s\n",
      "\n",
      "Explored 1 nodes (4 simplex iterations) in 0.05 seconds (0.00 work units)\n",
      "Thread count was 12 (of 12 available processors)\n",
      "\n",
      "Solution count 4: 440 3040 10940 12040 \n",
      "\n",
      "Optimal solution found (tolerance 1.00e-04)\n",
      "Best objective 4.400000000000e+02, best bound 4.400000000000e+02, gap 0.0000%\n",
      "Optimal Objective Value: 440.0\n",
      "Warehouse 1 Open: -0.0\n",
      "Warehouse 2 Open: -0.0\n",
      "Warehouse 3 Open: -0.0\n",
      "Warehouse 4 Open: 1.0\n",
      "Warehouse 5 Open: -0.0\n",
      "Customer 1 served by Warehouse 4: 1.0\n",
      "Customer 2 served by Warehouse 4: 1.0\n",
      "Customer 3 served by Warehouse 4: 1.0\n",
      "Customer 4 served by Warehouse 4: 1.0\n"
     ]
    }
   ],
   "source": [
    "# Model Implementation\n",
    "model = Model(\"TLAMM Problem\")\n",
    "\n",
    "# Decision variables\n",
    "x = model.addVars(I, vtype=GRB.BINARY, name=\"x\")  # Binary for TLAMM opening\n",
    "y = model.addVars(I, J, vtype=GRB.CONTINUOUS, name=\"y\")  # Continuous for assignments\n",
    "M = model.addVar(vtype=GRB.CONTINUOUS, name=\"M\")  # Excess TLAMMs\n",
    "\n",
    "# Objective Function\n",
    "model.setObjective(\n",
    "    quicksum(c[i] * x[i] for i in I) +\n",
    "    quicksum(quicksum(quicksum(w[k] * f_kij[k, i, j] for k in K) * y[i, j] for j in J) for i in I) +\n",
    "    P * M,\n",
    "    GRB.MINIMIZE\n",
    ")\n",
    "\n",
    "# Constraints\n",
    "# 1. Demand satisfaction\n",
    "model.addConstrs((quicksum(y[i, j] for i in I) == 1 for j in J), name=\"DemandSatisfaction\")\n",
    "\n",
    "# 2. Assignment only if TLAMM is open\n",
    "model.addConstrs((y[i, j] <= x[i] for i in I for j in J), name=\"AssignmentValidity\")\n",
    "\n",
    "# 3. Limit on number of TLAMMs\n",
    "model.addConstr(quicksum(x[i] for i in I) <= L, name=\"TLAMMLimit\")\n",
    "\n",
    "# 4. Capacity constraints\n",
    "model.addConstrs((quicksum(y[i, j] for j in J) <= k_cap[i] * x[i] for i in I), name=\"Capacity\")\n",
    "\n",
    "# 5. Excess warehouses\n",
    "model.addConstr(M >= quicksum(x[i] for i in I) - 1, name=\"ExcessLocation\")\n",
    "model.addConstr(M >= 0, name=\"NonNegativeExcess\")\n",
    "\n",
    "# Solve the model\n",
    "model.optimize()\n",
    "\n",
    "# Output results\n",
    "if model.status == GRB.OPTIMAL:\n",
    "    print(f\"Optimal Objective Value: {model.objVal}\")\n",
    "    for i in I:\n",
    "        print(f\"Warehouse {i} Open: {x[i].x}\")\n",
    "    for i in I:\n",
    "        for j in J:\n",
    "            if y[i, j].x > 0:\n",
    "                print(f\"Customer {j} served by TLAMM {i}: {y[i, j].x}\")\n",
    "else:\n",
    "    print(\"No optimal solution found.\")\n"
   ]
  },
  {
   "cell_type": "code",
   "execution_count": null,
   "id": "cdac8854-1c1b-4ae0-96ad-b2c78a999edb",
   "metadata": {},
   "outputs": [],
   "source": []
  },
  {
   "cell_type": "code",
   "execution_count": null,
   "id": "7ac2be17-0086-44af-87f6-da3d9c2ed5cb",
   "metadata": {},
   "outputs": [],
   "source": []
  },
  {
   "cell_type": "code",
   "execution_count": null,
   "id": "04164d82-c14f-4e22-b593-afcbe8534764",
   "metadata": {},
   "outputs": [],
   "source": []
  }
 ],
 "metadata": {
  "kernelspec": {
   "display_name": "Python 3 (ipykernel)",
   "language": "python",
   "name": "python3"
  },
  "language_info": {
   "codemirror_mode": {
    "name": "ipython",
    "version": 3
   },
   "file_extension": ".py",
   "mimetype": "text/x-python",
   "name": "python",
   "nbconvert_exporter": "python",
   "pygments_lexer": "ipython3",
   "version": "3.11.8"
  }
 },
 "nbformat": 4,
 "nbformat_minor": 5
}
